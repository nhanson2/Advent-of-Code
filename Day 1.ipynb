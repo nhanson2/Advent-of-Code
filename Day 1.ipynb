{
 "cells": [
  {
   "cell_type": "code",
   "execution_count": 7,
   "metadata": {},
   "outputs": [],
   "source": [
    "values = '''\n",
    "1322\n",
    "1211\n",
    "1427\n",
    "1428\n",
    "1953\n",
    "1220\n",
    "1629\n",
    "1186\n",
    "1354\n",
    "1776\n",
    "1906\n",
    "1849\n",
    "1327\n",
    "1423\n",
    "401\n",
    "1806\n",
    "1239\n",
    "1934\n",
    "1256\n",
    "1223\n",
    "1504\n",
    "1365\n",
    "1653\n",
    "1706\n",
    "1465\n",
    "1810\n",
    "1089\n",
    "1447\n",
    "1983\n",
    "1505\n",
    "1763\n",
    "1590\n",
    "1843\n",
    "1534\n",
    "1886\n",
    "1842\n",
    "1878\n",
    "1785\n",
    "1121\n",
    "1857\n",
    "1496\n",
    "1696\n",
    "1863\n",
    "1944\n",
    "1692\n",
    "1255\n",
    "1572\n",
    "1767\n",
    "1509\n",
    "1845\n",
    "1479\n",
    "1935\n",
    "1507\n",
    "1852\n",
    "1193\n",
    "1797\n",
    "1573\n",
    "1317\n",
    "1266\n",
    "1707\n",
    "1819\n",
    "925\n",
    "1976\n",
    "1908\n",
    "1571\n",
    "1646\n",
    "1625\n",
    "1719\n",
    "1980\n",
    "1970\n",
    "1566\n",
    "1679\n",
    "1484\n",
    "1818\n",
    "1985\n",
    "1794\n",
    "1699\n",
    "1530\n",
    "1645\n",
    "370\n",
    "1658\n",
    "1345\n",
    "1730\n",
    "1340\n",
    "1281\n",
    "1722\n",
    "1623\n",
    "1148\n",
    "1545\n",
    "1728\n",
    "1325\n",
    "1164\n",
    "1462\n",
    "1893\n",
    "1736\n",
    "160\n",
    "1543\n",
    "1371\n",
    "1930\n",
    "1162\n",
    "2010\n",
    "1302\n",
    "1967\n",
    "1889\n",
    "1547\n",
    "1335\n",
    "1416\n",
    "1359\n",
    "1622\n",
    "1682\n",
    "1701\n",
    "1939\n",
    "1697\n",
    "1436\n",
    "1367\n",
    "1119\n",
    "1741\n",
    "1466\n",
    "1997\n",
    "1856\n",
    "1824\n",
    "1323\n",
    "1478\n",
    "1963\n",
    "1832\n",
    "1748\n",
    "1260\n",
    "1244\n",
    "1834\n",
    "1990\n",
    "1567\n",
    "1147\n",
    "1588\n",
    "1694\n",
    "1487\n",
    "1151\n",
    "1347\n",
    "1315\n",
    "1502\n",
    "546\n",
    "730\n",
    "1742\n",
    "1869\n",
    "1277\n",
    "1224\n",
    "1169\n",
    "1708\n",
    "1661\n",
    "174\n",
    "1207\n",
    "1801\n",
    "1880\n",
    "1390\n",
    "1747\n",
    "1215\n",
    "1684\n",
    "1498\n",
    "1965\n",
    "1933\n",
    "1693\n",
    "1129\n",
    "1578\n",
    "1189\n",
    "1251\n",
    "1727\n",
    "1440\n",
    "1178\n",
    "746\n",
    "1564\n",
    "944\n",
    "1822\n",
    "1225\n",
    "1523\n",
    "1575\n",
    "1185\n",
    "37\n",
    "1866\n",
    "1766\n",
    "1737\n",
    "1800\n",
    "1633\n",
    "1796\n",
    "1161\n",
    "1932\n",
    "1583\n",
    "1395\n",
    "1288\n",
    "1991\n",
    "229\n",
    "1875\n",
    "1540\n",
    "1876\n",
    "1191\n",
    "1858\n",
    "1713\n",
    "1725\n",
    "1955\n",
    "1250\n",
    "1987\n",
    "1724\n",
    "'''.split()"
   ]
  },
  {
   "cell_type": "code",
   "execution_count": 11,
   "metadata": {},
   "outputs": [],
   "source": [
    "values = list(map(lambda x: int(x), values))"
   ]
  },
  {
   "cell_type": "code",
   "execution_count": 33,
   "metadata": {},
   "outputs": [
    {
     "name": "stdout",
     "output_type": "stream",
     "text": [
      "127642310\n",
      "401 1390\n",
      "Wall time: 2.05 s\n"
     ]
    }
   ],
   "source": [
    "%%time\n",
    "for i in range(len(values)):\n",
    "    for j in range(i, len(values)):\n",
    "        for k in range(j, len(values)):\n",
    "            if i == j == k or i == j or j == k or i == k:\n",
    "                continue\n",
    "            if values[i] + values[j] + values[k] == 2020:\n",
    "                print(values[i] * values[j] * values[k])\n",
    "                print('{} {}'.format(values[i], values[j]))\n",
    "                break"
   ]
  },
  {
   "cell_type": "code",
   "execution_count": 32,
   "metadata": {},
   "outputs": [
    {
     "name": "stdout",
     "output_type": "stream",
     "text": [
      "Wall time: 1.05 s\n"
     ]
    },
    {
     "data": {
      "text/plain": [
       "127642310"
      ]
     },
     "execution_count": 32,
     "metadata": {},
     "output_type": "execute_result"
    }
   ],
   "source": [
    "%%time\n",
    "np.prod(list(filter(lambda x: sum(x) == 2020, list(combinations(values, 3))))[0])"
   ]
  },
  {
   "cell_type": "code",
   "execution_count": null,
   "metadata": {},
   "outputs": [],
   "source": []
  },
  {
   "cell_type": "code",
   "execution_count": null,
   "metadata": {},
   "outputs": [],
   "source": []
  },
  {
   "cell_type": "code",
   "execution_count": 15,
   "metadata": {},
   "outputs": [],
   "source": [
    "z = range(10)"
   ]
  },
  {
   "cell_type": "code",
   "execution_count": 18,
   "metadata": {},
   "outputs": [
    {
     "data": {
      "text/plain": [
       "range"
      ]
     },
     "execution_count": 18,
     "metadata": {},
     "output_type": "execute_result"
    }
   ],
   "source": [
    "type(z)"
   ]
  },
  {
   "cell_type": "code",
   "execution_count": 17,
   "metadata": {},
   "outputs": [
    {
     "ename": "TypeError",
     "evalue": "'range' object is not an iterator",
     "output_type": "error",
     "traceback": [
      "\u001b[1;31m---------------------------------------------------------------------------\u001b[0m",
      "\u001b[1;31mTypeError\u001b[0m                                 Traceback (most recent call last)",
      "\u001b[1;32m<ipython-input-17-cf9ac561a401>\u001b[0m in \u001b[0;36m<module>\u001b[1;34m\u001b[0m\n\u001b[1;32m----> 1\u001b[1;33m \u001b[0mnext\u001b[0m\u001b[1;33m(\u001b[0m\u001b[0mz\u001b[0m\u001b[1;33m)\u001b[0m\u001b[1;33m\u001b[0m\u001b[1;33m\u001b[0m\u001b[0m\n\u001b[0m",
      "\u001b[1;31mTypeError\u001b[0m: 'range' object is not an iterator"
     ]
    }
   ],
   "source": []
  },
  {
   "cell_type": "code",
   "execution_count": null,
   "metadata": {},
   "outputs": [],
   "source": []
  }
 ],
 "metadata": {
  "kernelspec": {
   "display_name": "Python 3",
   "language": "python",
   "name": "python3"
  },
  "language_info": {
   "codemirror_mode": {
    "name": "ipython",
    "version": 3
   },
   "file_extension": ".py",
   "mimetype": "text/x-python",
   "name": "python",
   "nbconvert_exporter": "python",
   "pygments_lexer": "ipython3",
   "version": "3.8.3"
  }
 },
 "nbformat": 4,
 "nbformat_minor": 4
}
